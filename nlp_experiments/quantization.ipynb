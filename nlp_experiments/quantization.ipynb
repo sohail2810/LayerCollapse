{
 "cells": [
  {
   "cell_type": "code",
   "execution_count": 1,
   "metadata": {},
   "outputs": [],
   "source": [
    "import os\n",
    "os.environ[\"CUDA_DEVICE_ORDER\"] = \"PCI_BUS_ID\"\n",
    "os.environ[\"CUDA_VISIBLE_DEVICES\"] = \"0\""
   ]
  },
  {
   "cell_type": "code",
   "execution_count": 2,
   "metadata": {},
   "outputs": [
    {
     "name": "stderr",
     "output_type": "stream",
     "text": [
      "/home/soheil/miniconda3/envs/GP/lib/python3.10/site-packages/tqdm/auto.py:21: TqdmWarning: IProgress not found. Please update jupyter and ipywidgets. See https://ipywidgets.readthedocs.io/en/stable/user_install.html\n",
      "  from .autonotebook import tqdm as notebook_tqdm\n"
     ]
    }
   ],
   "source": [
    "\n",
    "import torch\n",
    "import transformers\n",
    "from utils import *"
   ]
  },
  {
   "cell_type": "code",
   "execution_count": 3,
   "metadata": {},
   "outputs": [],
   "source": [
    "huggingface_models = {\"base\": \"bert-base-uncased\",\n",
    "                        \"large\": \"bert-large-uncased\",\n",
    "                      \"base-ft-sst2\": \"yoshitomo-matsubara/bert-base-uncased-sst2\",\n",
    "                        \"large-ft-sst2\": \"yoshitomo-matsubara/bert-large-uncased-sst2\",\n",
    "                      \"base-ft-stsb\": \"gchhablani/bert-base-cased-finetuned-stsb\",\n",
    "                        \"large-ft-stsb\": \"yoshitomo-matsubara/bert-large-uncased-stsb\",\n",
    "                      \"base-ft-mrpc\": \"textattack/bert-base-uncased-MRPC\",\n",
    "                        \"large-ft-mrpc\": \"yoshitomo-matsubara/bert-large-uncased-mrpc\",\n",
    "                      \"base-ft-cola\": \"yoshitomo-matsubara/bert-base-uncased-cola\",\n",
    "                        \"large-ft-cola\": \"yoshitomo-matsubara/bert-large-uncased-cola\",\n",
    "                      \"base-ft-qnli\": \"gchhablani/bert-base-cased-finetuned-qnli\",\n",
    "                        \"large-ft-qnli\": \"yoshitomo-matsubara/bert-large-uncased-qnli\",\n",
    "                      \"base-ft-mnli\": \"yoshitomo-matsubara/bert-base-uncased-mnli\",\n",
    "                        \"large-ft-mnli\": \"yoshitomo-matsubara/bert-large-uncased-mnli\",\n",
    "                      \"base-ft-rte\": \"anirudh21/bert-base-uncased-finetuned-rte\",\n",
    "                        \"large-ft-rte\": \"yoshitomo-matsubara/bert-large-uncased-rte\",\n",
    "                      \"base-ft-qqp\": \"A-bhimany-u08/bert-base-cased-qqp\",\n",
    "                        \"large-ft-qqp\": \"yoshitomo-matsubara/bert-large-uncased-qqp\",\n",
    "                      \"base-ft-wnli\": \"gchhablani/bert-base-cased-finetuned-wnli\",\n",
    "                        \"large-ft-wnli\": \"yoshitomo-matsubara/bert-large-uncased-wnli\",\n",
    "                      }"
   ]
  },
  {
   "cell_type": "code",
   "execution_count": 4,
   "metadata": {},
   "outputs": [],
   "source": [
    "model_base, tokenizer = get_classification_bert_model(pre_trained_model_name=huggingface_models[\"base-ft-mrpc\"])"
   ]
  },
  {
   "cell_type": "code",
   "execution_count": 5,
   "metadata": {},
   "outputs": [],
   "source": [
    "train_dataloader, validation_dataloader, dataset = get_glue_task_dataset('mrpc', tokenizer)"
   ]
  },
  {
   "cell_type": "code",
   "execution_count": 6,
   "metadata": {},
   "outputs": [
    {
     "data": {
      "text/plain": [
       "<All keys matched successfully>"
      ]
     },
     "execution_count": 6,
     "metadata": {},
     "output_type": "execute_result"
    }
   ],
   "source": [
    "model_base.load_state_dict(torch.load(\"/scr/models/LC/models_archive/Bert/base-ft-mrpc/orig_mrpc.pth\"))"
   ]
  },
  {
   "cell_type": "code",
   "execution_count": 17,
   "metadata": {},
   "outputs": [
    {
     "data": {
      "text/html": [
       "\n",
       "    <div>\n",
       "      \n",
       "      <progress value='51' max='51' style='width:300px; height:20px; vertical-align: middle;'></progress>\n",
       "      [51/51 00:03]\n",
       "    </div>\n",
       "    "
      ],
      "text/plain": [
       "<IPython.core.display.HTML object>"
      ]
     },
     "metadata": {},
     "output_type": "display_data"
    },
    {
     "data": {
      "text/plain": [
       "{'eval_loss': 0.7286306023597717,\n",
       " 'eval_accuracy': 0.8308823529411765,\n",
       " 'eval_f1': 0.8848080133555927,\n",
       " 'eval_combined_score': 0.8578451831483846,\n",
       " 'eval_runtime': 3.2495,\n",
       " 'eval_samples_per_second': 125.558,\n",
       " 'eval_steps_per_second': 15.695}"
      ]
     },
     "execution_count": 17,
     "metadata": {},
     "output_type": "execute_result"
    }
   ],
   "source": [
    "standard_evaluate(model_base, dataset[\"validation\"], \"mrpc\")"
   ]
  },
  {
   "cell_type": "code",
   "execution_count": 13,
   "metadata": {},
   "outputs": [],
   "source": [
    "model_dynamic_quantized = torch.quantization.quantize_dynamic(\n",
    "    model_base, qconfig_spec={torch.nn.Linear}, dtype=torch.qint8\n",
    ")"
   ]
  },
  {
   "cell_type": "code",
   "execution_count": null,
   "metadata": {},
   "outputs": [
    {
     "name": "stderr",
     "output_type": "stream",
     "text": [
      "100%|██████████| 2/2 [01:07<00:00, 33.68s/it]\n"
     ]
    },
    {
     "data": {
      "text/plain": [
       "{'accuracy': 0.8308823529411765,\n",
       " 'f1': 0.8855721393034827,\n",
       " 'precision': 0.8240740740740741,\n",
       " 'recall': 0.956989247311828}"
      ]
     },
     "execution_count": 8,
     "metadata": {},
     "output_type": "execute_result"
    }
   ],
   "source": [
    "basic_evaluate(model_dynamic_quantized.to(\"cpu\"), validation_dataloader, metric=clf_metrics, device=\"cpu\")"
   ]
  },
  {
   "cell_type": "code",
   "execution_count": 9,
   "metadata": {},
   "outputs": [],
   "source": [
    "def print_model_size(mdl):\n",
    "    torch.save(mdl.state_dict(), \"tmp.pt\")\n",
    "    print(\"%.2f MB\" %(os.path.getsize(\"tmp.pt\")/1e6))\n",
    "    os.remove('tmp.pt')"
   ]
  },
  {
   "cell_type": "code",
   "execution_count": 10,
   "metadata": {},
   "outputs": [
    {
     "name": "stdout",
     "output_type": "stream",
     "text": [
      "438.00 MB\n"
     ]
    }
   ],
   "source": [
    "print_model_size(model_base)"
   ]
  },
  {
   "cell_type": "code",
   "execution_count": 11,
   "metadata": {},
   "outputs": [
    {
     "name": "stdout",
     "output_type": "stream",
     "text": [
      "181.48 MB\n"
     ]
    }
   ],
   "source": [
    "print_model_size(model_dynamic_quantized)"
   ]
  },
  {
   "cell_type": "code",
   "execution_count": 17,
   "metadata": {},
   "outputs": [],
   "source": [
    "from torch.nn.utils.prune import random_unstructured"
   ]
  },
  {
   "cell_type": "code",
   "execution_count": null,
   "metadata": {},
   "outputs": [],
   "source": [
    "def prune(model):\n",
    "    for name, module in model.named_modules():\n",
    "        # prune 20% of connections in all 2D-conv layers\n",
    "        if isinstance(module, torch.nn.Conv2d):\n",
    "            prune.l1_unstructured(module, name='weight', amount=0.2)\n",
    "        # prune 40% of connections in all linear layers\n",
    "        elif isinstance(module, torch.nn.Linear):\n",
    "            prune.l1_unstructured(module, name='weight', amount=0.4)"
   ]
  },
  {
   "cell_type": "code",
   "execution_count": null,
   "metadata": {},
   "outputs": [],
   "source": []
  }
 ],
 "metadata": {
  "kernelspec": {
   "display_name": "GP",
   "language": "python",
   "name": "python3"
  },
  "language_info": {
   "codemirror_mode": {
    "name": "ipython",
    "version": 3
   },
   "file_extension": ".py",
   "mimetype": "text/x-python",
   "name": "python",
   "nbconvert_exporter": "python",
   "pygments_lexer": "ipython3",
   "version": "3.10.13"
  }
 },
 "nbformat": 4,
 "nbformat_minor": 2
}
