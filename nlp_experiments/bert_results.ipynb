{
 "cells": [
  {
   "cell_type": "code",
   "execution_count": 1,
   "metadata": {},
   "outputs": [
    {
     "name": "stderr",
     "output_type": "stream",
     "text": [
      "/home/soheil/miniconda3/envs/GP/lib/python3.10/site-packages/tqdm/auto.py:21: TqdmWarning: IProgress not found. Please update jupyter and ipywidgets. See https://ipywidgets.readthedocs.io/en/stable/user_install.html\n",
      "  from .autonotebook import tqdm as notebook_tqdm\n"
     ]
    }
   ],
   "source": [
    "from transformers import AutoTokenizer, AutoModelForSequenceClassification\n",
    "import torch\n",
    "from utils import *"
   ]
  },
  {
   "cell_type": "code",
   "execution_count": 2,
   "metadata": {},
   "outputs": [],
   "source": [
    "huggingface_models = {\"base\": \"bert-base-uncased\",\n",
    "                        \"large\": \"bert-large-uncased\",\n",
    "                      \"base-ft-sst2\": \"yoshitomo-matsubara/bert-base-uncased-sst2\",\n",
    "                        \"large-ft-sst2\": \"yoshitomo-matsubara/bert-large-uncased-sst2\",\n",
    "                      \"base-ft-stsb\": \"gchhablani/bert-base-cased-finetuned-stsb\",\n",
    "                        \"large-ft-stsb\": \"yoshitomo-matsubara/bert-large-uncased-stsb\",\n",
    "                      \"base-ft-mrpc\": \"textattack/bert-base-uncased-MRPC\",\n",
    "                        \"large-ft-mrpc\": \"yoshitomo-matsubara/bert-large-uncased-mrpc\",\n",
    "                      \"base-ft-cola\": \"yoshitomo-matsubara/bert-base-uncased-cola\",\n",
    "                        \"large-ft-cola\": \"yoshitomo-matsubara/bert-large-uncased-cola\",\n",
    "                      \"base-ft-qnli\": \"gchhablani/bert-base-cased-finetuned-qnli\",\n",
    "                        \"large-ft-qnli\": \"yoshitomo-matsubara/bert-large-uncased-qnli\",\n",
    "                      \"base-ft-mnli\": \"yoshitomo-matsubara/bert-base-uncased-mnli\",\n",
    "                        \"large-ft-mnli\": \"yoshitomo-matsubara/bert-large-uncased-mnli\",\n",
    "                      \"base-ft-rte\": \"anirudh21/bert-base-uncased-finetuned-rte\",\n",
    "                        \"large-ft-rte\": \"yoshitomo-matsubara/bert-large-uncased-rte\",\n",
    "                      \"base-ft-qqp\": \"A-bhimany-u08/bert-base-cased-qqp\",\n",
    "                        \"large-ft-qqp\": \"yoshitomo-matsubara/bert-large-uncased-qqp\",\n",
    "                      \"base-ft-wnli\": \"gchhablani/bert-base-cased-finetuned-wnli\",\n",
    "                        \"large-ft-wnli\": \"yoshitomo-matsubara/bert-large-uncased-wnli\",\n",
    "                      }"
   ]
  },
  {
   "cell_type": "markdown",
   "metadata": {},
   "source": [
    "# QQP"
   ]
  },
  {
   "cell_type": "markdown",
   "metadata": {},
   "source": [
    "## Bert Base"
   ]
  },
  {
   "cell_type": "markdown",
   "metadata": {},
   "source": [
    "### Layer1"
   ]
  },
  {
   "cell_type": "code",
   "execution_count": 3,
   "metadata": {},
   "outputs": [],
   "source": [
    "model_base, tokenizer = get_classification_bert_model(pre_trained_model_name=huggingface_models[\"base-ft-qqp\"])"
   ]
  },
  {
   "cell_type": "code",
   "execution_count": 9,
   "metadata": {},
   "outputs": [],
   "source": [
    "train_dataloader, validation_dataloader, dataset = get_glue_task_dataset('qqp', tokenizer)"
   ]
  },
  {
   "cell_type": "code",
   "execution_count": 5,
   "metadata": {},
   "outputs": [
    {
     "name": "stdout",
     "output_type": "stream",
     "text": [
      "Setting up gated layer bert.encoder.layer.11\n"
     ]
    }
   ],
   "source": [
    "model_LC = get_LC_model_bert(model_base, num_GP_layers=1)"
   ]
  },
  {
   "cell_type": "code",
   "execution_count": 8,
   "metadata": {},
   "outputs": [
    {
     "data": {
      "text/plain": [
       "<All keys matched successfully>"
      ]
     },
     "execution_count": 8,
     "metadata": {},
     "output_type": "execute_result"
    }
   ],
   "source": [
    "model_LC.load_state_dict(torch.load(\"/scr/models/LC/models_archive/Bert/base-ft-qqp/1_qqp.pth\"))"
   ]
  },
  {
   "cell_type": "code",
   "execution_count": 10,
   "metadata": {},
   "outputs": [
    {
     "name": "stderr",
     "output_type": "stream",
     "text": [
      "/home/soheil/miniconda3/envs/GP/lib/python3.10/site-packages/torch/nn/parallel/_functions.py:68: UserWarning: Was asked to gather along dimension 0, but all input tensors were scalars; will instead unsqueeze and return a vector.\n",
      "  warnings.warn('Was asked to gather along dimension 0, but all '\n"
     ]
    },
    {
     "data": {
      "text/html": [
       "\n",
       "    <div>\n",
       "      \n",
       "      <progress value='1264' max='1264' style='width:300px; height:20px; vertical-align: middle;'></progress>\n",
       "      [1264/1264 02:28]\n",
       "    </div>\n",
       "    "
      ],
      "text/plain": [
       "<IPython.core.display.HTML object>"
      ]
     },
     "metadata": {},
     "output_type": "display_data"
    },
    {
     "data": {
      "text/plain": [
       "{'eval_loss': 0.25186893343925476,\n",
       " 'eval_accuracy': 0.9017313875834776,\n",
       " 'eval_f1': 0.8670570520327924,\n",
       " 'eval_combined_score': 0.8843942198081349,\n",
       " 'eval_runtime': 152.5275,\n",
       " 'eval_samples_per_second': 265.067,\n",
       " 'eval_steps_per_second': 8.287}"
      ]
     },
     "execution_count": 10,
     "metadata": {},
     "output_type": "execute_result"
    }
   ],
   "source": [
    "standard_evaluate(model_LC, dataset[\"validation\"], \"qqp\")"
   ]
  },
  {
   "cell_type": "code",
   "execution_count": 11,
   "metadata": {},
   "outputs": [
    {
     "name": "stdout",
     "output_type": "stream",
     "text": [
      "Collapsing layer bert.encoder.layer.11\n"
     ]
    }
   ],
   "source": [
    "collapse_model(model_LC)"
   ]
  },
  {
   "cell_type": "code",
   "execution_count": 12,
   "metadata": {},
   "outputs": [
    {
     "name": "stderr",
     "output_type": "stream",
     "text": [
      "/home/soheil/miniconda3/envs/GP/lib/python3.10/site-packages/torch/nn/parallel/_functions.py:68: UserWarning: Was asked to gather along dimension 0, but all input tensors were scalars; will instead unsqueeze and return a vector.\n",
      "  warnings.warn('Was asked to gather along dimension 0, but all '\n"
     ]
    },
    {
     "data": {
      "text/html": [
       "\n",
       "    <div>\n",
       "      \n",
       "      <progress value='1264' max='1264' style='width:300px; height:20px; vertical-align: middle;'></progress>\n",
       "      [1264/1264 02:27]\n",
       "    </div>\n",
       "    "
      ],
      "text/plain": [
       "<IPython.core.display.HTML object>"
      ]
     },
     "metadata": {},
     "output_type": "display_data"
    },
    {
     "data": {
      "text/plain": [
       "{'eval_loss': 0.2505914568901062,\n",
       " 'eval_accuracy': 0.9016571852584714,\n",
       " 'eval_f1': 0.8668274383708469,\n",
       " 'eval_combined_score': 0.8842423118146592,\n",
       " 'eval_runtime': 148.5765,\n",
       " 'eval_samples_per_second': 272.116,\n",
       " 'eval_steps_per_second': 8.507}"
      ]
     },
     "execution_count": 12,
     "metadata": {},
     "output_type": "execute_result"
    }
   ],
   "source": [
    "standard_evaluate(model_LC, dataset[\"validation\"], \"qqp\")"
   ]
  },
  {
   "cell_type": "code",
   "execution_count": null,
   "metadata": {},
   "outputs": [],
   "source": []
  }
 ],
 "metadata": {
  "kernelspec": {
   "display_name": "GP",
   "language": "python",
   "name": "python3"
  },
  "language_info": {
   "codemirror_mode": {
    "name": "ipython",
    "version": 3
   },
   "file_extension": ".py",
   "mimetype": "text/x-python",
   "name": "python",
   "nbconvert_exporter": "python",
   "pygments_lexer": "ipython3",
   "version": "3.10.13"
  }
 },
 "nbformat": 4,
 "nbformat_minor": 2
}
