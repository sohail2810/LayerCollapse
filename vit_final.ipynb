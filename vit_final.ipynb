{
 "cells": [
  {
   "cell_type": "code",
   "execution_count": null,
   "metadata": {},
   "outputs": [],
   "source": [
    "import copy\n",
    "import math\n",
    "import random\n",
    "import time\n",
    "from collections import OrderedDict, defaultdict\n",
    "from typing import Union, List\n",
    "from utils import *\n",
    "\n",
    "import numpy as np\n",
    "import torch\n",
    "import torch.nn as nn\n",
    "from torch.optim import *\n",
    "from torch.utils.data import DataLoader\n",
    "from torchprofile import profile_macs\n",
    "from tqdm.auto import tqdm\n",
    "\n",
    "assert torch.cuda.is_available(), \\\n",
    "\"CUDA support is not available.\"\n",
    "\n",
    "import pickle\n",
    "\n",
    "import LiveTune as lt\n",
    "import timm"
   ]
  },
  {
   "cell_type": "code",
   "execution_count": null,
   "metadata": {},
   "outputs": [],
   "source": [
    "device = torch.device(\"cuda:2\" if torch.cuda.is_available() else \"cpu\")"
   ]
  },
  {
   "cell_type": "code",
   "execution_count": null,
   "metadata": {},
   "outputs": [],
   "source": [
    "dataloader = get_dataloader(\"imagenet\", 256)"
   ]
  },
  {
   "cell_type": "markdown",
   "metadata": {},
   "source": [
    "# Base ViT"
   ]
  },
  {
   "cell_type": "code",
   "execution_count": null,
   "metadata": {},
   "outputs": [],
   "source": [
    "base_vit = timm.create_model(\"vit_base_patch16_224.orig_in21k_ft_in1k\", pretrained=True).to(device)\n",
    "collapsible_vit = get_collapsible_model(base_vit, fraction=.1, device=device)\n",
    "collapsible_vit.load_state_dict(torch.load(\"./models_archive/vit/base/new_finetuned_5epoch_frac01_lc.pth\", map_location=device))"
   ]
  },
  {
   "cell_type": "code",
   "execution_count": null,
   "metadata": {},
   "outputs": [],
   "source": [
    "evaluate_model(base_vit, dataloader=dataloader, device=device)"
   ]
  },
  {
   "cell_type": "code",
   "execution_count": null,
   "metadata": {},
   "outputs": [],
   "source": [
    "collapse_model(collapsible_vit, fraction=.1, device=device, threshold=0.05)"
   ]
  },
  {
   "cell_type": "code",
   "execution_count": null,
   "metadata": {},
   "outputs": [],
   "source": [
    "evaluate(collapsible_vit, dataloader=dataloader['val'], device=device)"
   ]
  },
  {
   "cell_type": "code",
   "execution_count": null,
   "metadata": {},
   "outputs": [],
   "source": [
    "evaluate_model(collapsible_vit, dataloader=dataloader, device=device)"
   ]
  },
  {
   "cell_type": "code",
   "execution_count": null,
   "metadata": {},
   "outputs": [],
   "source": [
    "base_vit = timm.create_model(\"vit_base_patch16_224.orig_in21k_ft_in1k\", pretrained=True).to(device)\n",
    "collapsible_vit = get_collapsible_model(base_vit, fraction=.1, device=device)\n",
    "collapsible_vit.load_state_dict(torch.load(\"./models_archive/vit/base/new_finetuned_5epoch_frac01_lc.pth\", map_location=device))\n",
    "collapse_model(collapsible_vit, threshold=0.05)\n",
    "collapsible_vit = get_collapsible_model(collapsible_vit, fraction=1/6, device=device)\n",
    "collapsible_vit.load_state_dict(torch.load(\"./models_archive/vit/base/new_finetuned_5epoch_frac01_lc_collapsing2.pth\", map_location=device))\n",
    "collapse_model(collapsible_vit, threshold=0.05)"
   ]
  },
  {
   "cell_type": "code",
   "execution_count": null,
   "metadata": {},
   "outputs": [],
   "source": [
    "evaluate_model(collapsible_vit, dataloader=dataloader, device=device)"
   ]
  },
  {
   "cell_type": "markdown",
   "metadata": {},
   "source": [
    "# ViT Large"
   ]
  },
  {
   "cell_type": "code",
   "execution_count": null,
   "metadata": {},
   "outputs": [],
   "source": [
    "base_vit = timm.create_model(\"vit_large_patch16_224.augreg_in21k_ft_in1k\", pretrained=True).to(device)"
   ]
  },
  {
   "cell_type": "code",
   "execution_count": null,
   "metadata": {},
   "outputs": [],
   "source": [
    "evaluate(base_vit, dataloader=dataloader['val'], device=device)"
   ]
  },
  {
   "cell_type": "code",
   "execution_count": null,
   "metadata": {},
   "outputs": [],
   "source": [
    "get_num_parameters(base_vit)"
   ]
  },
  {
   "cell_type": "code",
   "execution_count": null,
   "metadata": {},
   "outputs": [],
   "source": [
    "collapse_vit = get_collapsible_model(base_vit, fraction=.1, device=device)"
   ]
  },
  {
   "cell_type": "code",
   "execution_count": null,
   "metadata": {},
   "outputs": [],
   "source": [
    "collapse_vit.load_state_dict(torch.load(\"./models_archive/vit/large/finetuned_2epoch_frac01_nolc.pth\", map_location=device))"
   ]
  },
  {
   "cell_type": "code",
   "execution_count": null,
   "metadata": {},
   "outputs": [],
   "source": [
    "evaluate(collapse_vit, dataloader=dataloader['val'], device=device)"
   ]
  },
  {
   "cell_type": "code",
   "execution_count": null,
   "metadata": {},
   "outputs": [],
   "source": [
    "collapse_vit.load_state_dict(torch.load(\"./models_archive/vit/large/finetuned_17epoch_frac01_lc.pth\", map_location=device))"
   ]
  },
  {
   "cell_type": "code",
   "execution_count": null,
   "metadata": {},
   "outputs": [],
   "source": [
    "evaluate(collapse_vit, dataloader=dataloader['val'], device=device)"
   ]
  },
  {
   "cell_type": "code",
   "execution_count": null,
   "metadata": {},
   "outputs": [],
   "source": [
    "get_model_collapsible_slopes(collapse_vit)"
   ]
  },
  {
   "cell_type": "code",
   "execution_count": null,
   "metadata": {},
   "outputs": [],
   "source": [
    "collapse_model(collapse_vit, fraction=.1, threshold=0.05, device=device)"
   ]
  },
  {
   "cell_type": "code",
   "execution_count": null,
   "metadata": {},
   "outputs": [],
   "source": [
    "evaluate_model(base_vit, dataloader=dataloader, device=device)"
   ]
  },
  {
   "cell_type": "code",
   "execution_count": null,
   "metadata": {},
   "outputs": [],
   "source": [
    "evaluate_model(collapse_vit, dataloader=dataloader, device=device)"
   ]
  },
  {
   "cell_type": "markdown",
   "metadata": {},
   "source": [
    "# ViT Small\n",
    "## vit_small_patch16_224.augreg_in21k_ft_in1k"
   ]
  },
  {
   "cell_type": "code",
   "execution_count": null,
   "metadata": {},
   "outputs": [],
   "source": [
    "base_vit = timm.create_model(\"vit_small_patch16_224.augreg_in21k_ft_in1k\", pretrained=True).to(device)\n",
    "collapsible_vit = get_collapsible_model(base_vit, fraction=.1, device=device)\n",
    "collapsible_vit.load_state_dict(torch.load(\"./models_archive/vit/small/new_finetuned_5epoch_frac01_lc.pth\", map_location=device))\n",
    "collapse_model(collapsible_vit, fraction=.1, device=device, threshold=0.05)"
   ]
  },
  {
   "cell_type": "code",
   "execution_count": null,
   "metadata": {},
   "outputs": [],
   "source": [
    "evaluate_model(base_vit, dataloader=dataloader, device=device)"
   ]
  },
  {
   "cell_type": "code",
   "execution_count": null,
   "metadata": {},
   "outputs": [],
   "source": [
    "evaluate_model(collapsible_vit, dataloader=dataloader, device=device)"
   ]
  },
  {
   "cell_type": "code",
   "execution_count": null,
   "metadata": {},
   "outputs": [],
   "source": [
    "base_vit = timm.create_model(\"vit_small_patch16_224.augreg_in21k_ft_in1k\", pretrained=True).to(device)\n",
    "collapsible_vit = get_collapsible_model(base_vit, fraction=.1, device=device)\n",
    "collapsible_vit.load_state_dict(torch.load(\"./models_archive/vit/small/new_finetuned_5epoch_frac01_lc.pth\", map_location=device))\n",
    "collapse_model(collapsible_vit, fraction=.1, device=device, threshold=0.05)\n",
    "collapsible_vit = get_collapsible_model(collapsible_vit, fraction=1/6, device=device)\n",
    "collapsible_vit.load_state_dict(torch.load(\"./models_archive/vit/small/new_finetuned_5epoch_collapsing2.pth\", map_location=device))\n",
    "collapse_model(collapsible_vit, fraction=1/6, device=device, threshold=0.05)"
   ]
  },
  {
   "cell_type": "code",
   "execution_count": null,
   "metadata": {},
   "outputs": [],
   "source": [
    "evaluate_model(collapsible_vit, dataloader=dataloader, device=device)"
   ]
  },
  {
   "cell_type": "markdown",
   "metadata": {},
   "source": [
    "# Sensitivity Analysis + Tiny ViT results"
   ]
  },
  {
   "cell_type": "code",
   "execution_count": null,
   "metadata": {},
   "outputs": [],
   "source": [
    "# tiny\n",
    "base_vit = timm.create_model(\"vit_tiny_patch16_224.augreg_in21k_ft_in1k\", pretrained=True).to(device)"
   ]
  },
  {
   "cell_type": "markdown",
   "metadata": {},
   "source": [
    "# no layer"
   ]
  },
  {
   "cell_type": "code",
   "execution_count": null,
   "metadata": {},
   "outputs": [],
   "source": [
    "evaluate_model(base_vit, dataloader=dataloader, device=device)"
   ]
  },
  {
   "cell_type": "markdown",
   "metadata": {},
   "source": [
    "# 1 layer"
   ]
  },
  {
   "cell_type": "code",
   "execution_count": null,
   "metadata": {},
   "outputs": [],
   "source": [
    "collapsible_vit = get_collapsible_model(base_vit, fraction=1/12, device=device)\n",
    "collapsible_vit.load_state_dict(torch.load(\"./models_archive/vit/tiny/sensitivity_analysis_collapsing1.pth\", map_location=device)) "
   ]
  },
  {
   "cell_type": "code",
   "execution_count": null,
   "metadata": {},
   "outputs": [],
   "source": [
    "get_model_collapsible_slopes(collapsible_vit)"
   ]
  },
  {
   "cell_type": "code",
   "execution_count": null,
   "metadata": {},
   "outputs": [],
   "source": [
    "collapse_model(collapsible_vit, fraction=1/12, threshold=0.05, device=device)"
   ]
  },
  {
   "cell_type": "code",
   "execution_count": null,
   "metadata": {},
   "outputs": [],
   "source": [
    "evaluate_model(collapsible_vit, dataloader=dataloader, device=device)"
   ]
  },
  {
   "cell_type": "markdown",
   "metadata": {},
   "source": [
    "# 2 layers"
   ]
  },
  {
   "cell_type": "code",
   "execution_count": null,
   "metadata": {},
   "outputs": [],
   "source": [
    "collapsible_vit = get_collapsible_model(base_vit, fraction=2/12, device=device)\n",
    "collapsible_vit.load_state_dict(torch.load(\"./models_archive/vit/tiny/sensitivity_analysis_10epoch_frac0.166_lc2.pth\", map_location=device))\n",
    "collapse_model(collapsible_vit, threshold=0.05)\n",
    "collapsible_vit.load_state_dict(torch.load(\"./models_archive/vit/tiny/sensitivity_analysis_collapsing2.pth\", map_location=device))"
   ]
  },
  {
   "cell_type": "code",
   "execution_count": null,
   "metadata": {},
   "outputs": [],
   "source": [
    "get_model_collapsible_slopes(collapsible_vit)"
   ]
  },
  {
   "cell_type": "code",
   "execution_count": null,
   "metadata": {},
   "outputs": [],
   "source": [
    "collapse_model(collapsible_vit, fraction=2/12, device=device, threshold=0.05)"
   ]
  },
  {
   "cell_type": "code",
   "execution_count": null,
   "metadata": {},
   "outputs": [],
   "source": [
    "evaluate_model(collapsible_vit, dataloader=dataloader, device=device)"
   ]
  },
  {
   "cell_type": "code",
   "execution_count": null,
   "metadata": {},
   "outputs": [],
   "source": [
    "torch.save(collapsible_vit.state_dict(), \"./models_archive/vit/tiny/sensitivity_analysis_collapsed2.pth\")"
   ]
  },
  {
   "cell_type": "markdown",
   "metadata": {},
   "source": [
    "# 3 layers"
   ]
  },
  {
   "cell_type": "code",
   "execution_count": null,
   "metadata": {},
   "outputs": [],
   "source": [
    "collapsible_vit = get_collapsible_model(base_vit, fraction=2/12, device=device)\n",
    "collapsible_vit.load_state_dict(torch.load(\"./models_archive/vit/tiny/sensitivity_analysis_10epoch_frac0.166_lc2.pth\", map_location=device))\n",
    "collapse_model(collapsible_vit, threshold=0.05)\n",
    "collapsible_vit.load_state_dict(torch.load(\"./models_archive/vit/tiny/sensitivity_analysis_collapsing2.pth\", map_location=device))\n",
    "collapse_model(collapsible_vit, fraction=2/12, device=device, threshold=0.05)\n",
    "collapsible_vit = get_collapsible_model(collapsible_vit, fraction=3/12, device=device)"
   ]
  },
  {
   "cell_type": "code",
   "execution_count": null,
   "metadata": {},
   "outputs": [],
   "source": [
    "collapsible_vit.load_state_dict(torch.load(\"./models_archive/vit/tiny/sensitivity_analysis_collapsing3.pth\", map_location=device))"
   ]
  },
  {
   "cell_type": "code",
   "execution_count": null,
   "metadata": {},
   "outputs": [],
   "source": [
    "get_model_collapsible_slopes(collapsible_vit)"
   ]
  },
  {
   "cell_type": "code",
   "execution_count": null,
   "metadata": {},
   "outputs": [],
   "source": [
    "collapse_model(collapsible_vit, fraction=3/12, device=device, threshold=0.05)"
   ]
  },
  {
   "cell_type": "code",
   "execution_count": null,
   "metadata": {},
   "outputs": [],
   "source": [
    "evaluate_model(collapsible_vit, dataloader=dataloader, device=device)"
   ]
  },
  {
   "cell_type": "code",
   "execution_count": null,
   "metadata": {},
   "outputs": [],
   "source": [
    "torch.save(collapsible_vit.state_dict(), \"./models_archive/vit/tiny/sensitivity_analysis_collapsed3.pth\")"
   ]
  },
  {
   "cell_type": "markdown",
   "metadata": {},
   "source": [
    "# 4 layers"
   ]
  },
  {
   "cell_type": "code",
   "execution_count": null,
   "metadata": {},
   "outputs": [],
   "source": [
    "collapsible_vit = get_collapsible_model(base_vit, fraction=2/12, device=device)\n",
    "collapsible_vit.load_state_dict(torch.load(\"./models_archive/vit/tiny/sensitivity_analysis_10epoch_frac0.166_lc2.pth\", map_location=device))\n",
    "collapse_model(collapsible_vit, threshold=0.05)\n",
    "collapsible_vit.load_state_dict(torch.load(\"./models_archive/vit/tiny/sensitivity_analysis_collapsing2.pth\", map_location=device))\n",
    "collapse_model(collapsible_vit, fraction=2/12, device=device, threshold=0.05)\n",
    "collapsible_vit = get_collapsible_model(collapsible_vit, fraction=3/12, device=device)\n",
    "collapsible_vit.load_state_dict(torch.load(\"./models_archive/vit/tiny/sensitivity_analysis_collapsing3.pth\", map_location=device))\n",
    "collapse_model(collapsible_vit, fraction=3/12, device=device, threshold=0.05)\n",
    "collapsible_vit = get_collapsible_model(collapsible_vit, fraction=4/12, device=device)\n",
    "collapsible_vit.load_state_dict(torch.load(\"./models_archive/vit/tiny/sensitivity_analysis_collapsing4.pth\", map_location=device))"
   ]
  },
  {
   "cell_type": "code",
   "execution_count": null,
   "metadata": {},
   "outputs": [],
   "source": [
    "get_model_collapsible_slopes(collapsible_vit)"
   ]
  },
  {
   "cell_type": "code",
   "execution_count": null,
   "metadata": {},
   "outputs": [],
   "source": [
    "collapse_model(collapsible_vit, fraction=4/12, device=device, threshold=0.05)"
   ]
  },
  {
   "cell_type": "code",
   "execution_count": null,
   "metadata": {},
   "outputs": [],
   "source": [
    "evaluate_model(collapsible_vit, dataloader=dataloader, device=device)"
   ]
  },
  {
   "cell_type": "code",
   "execution_count": null,
   "metadata": {},
   "outputs": [],
   "source": [
    "torch.save(collapsible_vit.state_dict(), \"./models_archive/vit/tiny/sensitivity_analysis_collapsed4.pth\")"
   ]
  },
  {
   "cell_type": "markdown",
   "metadata": {},
   "source": [
    "## 5 layers"
   ]
  },
  {
   "cell_type": "code",
   "execution_count": null,
   "metadata": {},
   "outputs": [],
   "source": [
    "base_vit = timm.create_model(\"vit_tiny_patch16_224.augreg_in21k_ft_in1k\", pretrained=True).to(device)\n",
    "collapsible_vit = get_collapsible_model(base_vit, fraction=2/12, device=device)\n",
    "collapsible_vit.load_state_dict(torch.load(\"./models_archive/vit/tiny/sensitivity_analysis_10epoch_frac0.166_lc2.pth\", map_location=device))\n",
    "collapse_model(collapsible_vit, threshold=0.05)\n",
    "collapsible_vit.load_state_dict(torch.load(\"./models_archive/vit/tiny/sensitivity_analysis_collapsing2.pth\", map_location=device))\n",
    "collapse_model(collapsible_vit, fraction=2/12, device=device, threshold=0.05)\n",
    "collapsible_vit = get_collapsible_model(collapsible_vit, fraction=3/12, device=device)\n",
    "collapsible_vit.load_state_dict(torch.load(\"./models_archive/vit/tiny/sensitivity_analysis_collapsing3.pth\", map_location=device))\n",
    "collapse_model(collapsible_vit, threshold=0.05)\n",
    "collapsible_vit = get_collapsible_model(collapsible_vit, fraction=4/12, device=device)\n",
    "collapsible_vit.load_state_dict(torch.load(\"./models_archive/vit/tiny/sensitivity_analysis_collapsing4.pth\", map_location=device))\n",
    "collapse_model(collapsible_vit, threshold=0.05)\n",
    "collapsible_vit = get_collapsible_model(collapsible_vit, fraction=5/12, device=device)\n",
    "collapsible_vit.load_state_dict(torch.load(\"./models_archive/vit/tiny/sensitivity_analysis_collapsing5.pth\", map_location=device))"
   ]
  },
  {
   "cell_type": "code",
   "execution_count": null,
   "metadata": {},
   "outputs": [],
   "source": [
    "get_model_collapsible_slopes(collapsible_vit)"
   ]
  },
  {
   "cell_type": "code",
   "execution_count": null,
   "metadata": {},
   "outputs": [],
   "source": [
    "collapse_model(collapsible_vit, fraction=5/12, device=device, threshold=0.05)"
   ]
  },
  {
   "cell_type": "code",
   "execution_count": null,
   "metadata": {},
   "outputs": [],
   "source": [
    "evaluate_model(collapsible_vit, dataloader=dataloader, device=device)"
   ]
  },
  {
   "cell_type": "markdown",
   "metadata": {},
   "source": [
    "# 6 layers"
   ]
  },
  {
   "cell_type": "code",
   "execution_count": null,
   "metadata": {},
   "outputs": [],
   "source": [
    "base_vit = timm.create_model(\"vit_tiny_patch16_224.augreg_in21k_ft_in1k\", pretrained=True).to(device)\n",
    "collapsible_vit = get_collapsible_model(base_vit, fraction=2/12, device=device)\n",
    "collapsible_vit.load_state_dict(torch.load(\"./models_archive/vit/tiny/sensitivity_analysis_10epoch_frac0.166_lc2.pth\", map_location=device))\n",
    "collapse_model(collapsible_vit, threshold=0.05)\n",
    "collapsible_vit.load_state_dict(torch.load(\"./models_archive/vit/tiny/sensitivity_analysis_collapsing2.pth\", map_location=device))\n",
    "collapse_model(collapsible_vit, fraction=2/12, device=device, threshold=0.05)\n",
    "collapsible_vit = get_collapsible_model(collapsible_vit, fraction=3/12, device=device)\n",
    "collapsible_vit.load_state_dict(torch.load(\"./models_archive/vit/tiny/sensitivity_analysis_collapsing3.pth\", map_location=device))\n",
    "collapse_model(collapsible_vit, threshold=0.05)\n",
    "collapsible_vit = get_collapsible_model(collapsible_vit, fraction=4/12, device=device)\n",
    "collapsible_vit.load_state_dict(torch.load(\"./models_archive/vit/tiny/sensitivity_analysis_collapsing4.pth\", map_location=device))\n",
    "collapse_model(collapsible_vit, threshold=0.05)\n",
    "collapsible_vit = get_collapsible_model(collapsible_vit, fraction=5/12, device=device)\n",
    "collapsible_vit.load_state_dict(torch.load(\"./models_archive/vit/tiny/sensitivity_analysis_collapsing5.pth\", map_location=device))\n",
    "collapse_model(collapsible_vit, threshold=0.05)\n",
    "collapsible_vit = get_collapsible_model(collapsible_vit, fraction=6/12, device=device)\n",
    "collapsible_vit.load_state_dict(torch.load(\"./models_archive/vit/tiny/sensitivity_analysis_collapsing6.pth\", map_location=device))\n",
    "collapse_model(collapsible_vit, fraction=6/12, device=device, threshold=0.05)"
   ]
  },
  {
   "cell_type": "code",
   "execution_count": null,
   "metadata": {},
   "outputs": [],
   "source": [
    "get_model_collapsible_slopes(collapsible_vit)"
   ]
  },
  {
   "cell_type": "code",
   "execution_count": null,
   "metadata": {},
   "outputs": [],
   "source": [
    "evaluate_model(collapsible_vit, dataloader=dataloader, device=device)"
   ]
  },
  {
   "cell_type": "markdown",
   "metadata": {},
   "source": [
    "# 7 layers"
   ]
  },
  {
   "cell_type": "code",
   "execution_count": null,
   "metadata": {},
   "outputs": [],
   "source": [
    "base_vit = timm.create_model(\"vit_tiny_patch16_224.augreg_in21k_ft_in1k\", pretrained=True).to(device)\n",
    "collapsible_vit = get_collapsible_model(base_vit, fraction=2/12, device=device)\n",
    "collapsible_vit.load_state_dict(torch.load(\"./models_archive/vit/tiny/sensitivity_analysis_10epoch_frac0.166_lc2.pth\", map_location=device))\n",
    "collapse_model(collapsible_vit, threshold=0.05)\n",
    "collapsible_vit.load_state_dict(torch.load(\"./models_archive/vit/tiny/sensitivity_analysis_collapsing2.pth\", map_location=device))\n",
    "collapse_model(collapsible_vit, fraction=2/12, device=device, threshold=0.05)\n",
    "collapsible_vit = get_collapsible_model(collapsible_vit, fraction=3/12, device=device)\n",
    "collapsible_vit.load_state_dict(torch.load(\"./models_archive/vit/tiny/sensitivity_analysis_collapsing3.pth\", map_location=device))\n",
    "collapse_model(collapsible_vit, threshold=0.05)\n",
    "collapsible_vit = get_collapsible_model(collapsible_vit, fraction=4/12, device=device)\n",
    "collapsible_vit.load_state_dict(torch.load(\"./models_archive/vit/tiny/sensitivity_analysis_collapsing4.pth\", map_location=device))\n",
    "collapse_model(collapsible_vit, threshold=0.05)\n",
    "collapsible_vit = get_collapsible_model(collapsible_vit, fraction=5/12, device=device)\n",
    "collapsible_vit.load_state_dict(torch.load(\"./models_archive/vit/tiny/sensitivity_analysis_collapsing5.pth\", map_location=device))\n",
    "collapse_model(collapsible_vit, threshold=0.05)\n",
    "collapsible_vit = get_collapsible_model(collapsible_vit, fraction=6/12, device=device)\n",
    "collapsible_vit.load_state_dict(torch.load(\"./models_archive/vit/tiny/sensitivity_analysis_collapsing6.pth\", map_location=device))\n",
    "collapse_model(collapsible_vit, threshold=0.05)\n",
    "collapsible_vit = get_collapsible_model(collapsible_vit, fraction=7/12, device=device)\n",
    "collapsible_vit.load_state_dict(torch.load(\"./models_archive/vit/tiny/sensitivity_analysis_collapsing7.pth\", map_location=device))"
   ]
  },
  {
   "cell_type": "code",
   "execution_count": null,
   "metadata": {},
   "outputs": [],
   "source": [
    "collapse_model(collapsible_vit, fraction=7/12, device=device, threshold=0.05)"
   ]
  },
  {
   "cell_type": "code",
   "execution_count": null,
   "metadata": {},
   "outputs": [],
   "source": [
    "evaluate_model(collapsible_vit, dataloader=dataloader, device=device)"
   ]
  },
  {
   "cell_type": "markdown",
   "metadata": {},
   "source": [
    "# 8 layers"
   ]
  },
  {
   "cell_type": "code",
   "execution_count": null,
   "metadata": {},
   "outputs": [],
   "source": [
    "base_vit = timm.create_model(\"vit_tiny_patch16_224.augreg_in21k_ft_in1k\", pretrained=True).to(device)\n",
    "collapsible_vit = get_collapsible_model(base_vit, fraction=2/12, device=device)\n",
    "collapsible_vit.load_state_dict(torch.load(\"./models_archive/vit/tiny/sensitivity_analysis_10epoch_frac0.166_lc2.pth\", map_location=device))\n",
    "collapse_model(collapsible_vit, threshold=0.05)\n",
    "collapsible_vit.load_state_dict(torch.load(\"./models_archive/vit/tiny/sensitivity_analysis_collapsing2.pth\", map_location=device))\n",
    "collapse_model(collapsible_vit, fraction=2/12, device=device, threshold=0.05)\n",
    "collapsible_vit = get_collapsible_model(collapsible_vit, fraction=3/12, device=device)\n",
    "collapsible_vit.load_state_dict(torch.load(\"./models_archive/vit/tiny/sensitivity_analysis_collapsing3.pth\", map_location=device))\n",
    "collapse_model(collapsible_vit, threshold=0.05)\n",
    "collapsible_vit = get_collapsible_model(collapsible_vit, fraction=4/12, device=device)\n",
    "collapsible_vit.load_state_dict(torch.load(\"./models_archive/vit/tiny/sensitivity_analysis_collapsing4.pth\", map_location=device))\n",
    "collapse_model(collapsible_vit, threshold=0.05)\n",
    "collapsible_vit = get_collapsible_model(collapsible_vit, fraction=5/12, device=device)\n",
    "collapsible_vit.load_state_dict(torch.load(\"./models_archive/vit/tiny/sensitivity_analysis_collapsing5.pth\", map_location=device))\n",
    "collapse_model(collapsible_vit, threshold=0.05)\n",
    "collapsible_vit = get_collapsible_model(collapsible_vit, fraction=6/12, device=device)\n",
    "collapsible_vit.load_state_dict(torch.load(\"./models_archive/vit/tiny/sensitivity_analysis_collapsing6.pth\", map_location=device))\n",
    "collapse_model(collapsible_vit, threshold=0.05)\n",
    "collapsible_vit = get_collapsible_model(collapsible_vit, fraction=7/12, device=device)\n",
    "collapsible_vit.load_state_dict(torch.load(\"./models_archive/vit/tiny/sensitivity_analysis_collapsing7.pth\", map_location=device))\n",
    "collapse_model(collapsible_vit, threshold=0.05)\n",
    "collapsible_vit = get_collapsible_model(collapsible_vit, fraction=8/12, device=device)\n",
    "collapsible_vit.load_state_dict(torch.load(\"./models_archive/vit/tiny/sensitivity_analysis_collapsing8.pth\", map_location=device))"
   ]
  },
  {
   "cell_type": "code",
   "execution_count": null,
   "metadata": {},
   "outputs": [],
   "source": [
    "get_model_collapsible_slopes(collapsible_vit)"
   ]
  },
  {
   "cell_type": "code",
   "execution_count": null,
   "metadata": {},
   "outputs": [],
   "source": [
    "collapse_model(collapsible_vit, fraction=8/12, device=device, threshold=0.05)"
   ]
  },
  {
   "cell_type": "code",
   "execution_count": null,
   "metadata": {},
   "outputs": [],
   "source": [
    "evaluate_model(collapsible_vit, dataloader=dataloader, device=device)"
   ]
  }
 ],
 "metadata": {
  "kernelspec": {
   "display_name": "Python 3 (ipykernel)",
   "language": "python",
   "name": "python3"
  },
  "language_info": {
   "codemirror_mode": {
    "name": "ipython",
    "version": 3
   },
   "file_extension": ".py",
   "mimetype": "text/x-python",
   "name": "python",
   "nbconvert_exporter": "python",
   "pygments_lexer": "ipython3",
   "version": "3.9.13"
  }
 },
 "nbformat": 4,
 "nbformat_minor": 2
}
