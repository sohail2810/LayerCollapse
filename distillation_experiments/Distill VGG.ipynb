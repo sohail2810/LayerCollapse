{
 "cells": [
  {
   "cell_type": "code",
   "execution_count": 1,
   "id": "303496c6",
   "metadata": {},
   "outputs": [],
   "source": [
    "import os\n",
    "!export CUDA_VISIBLE_DEVICES=0\n",
    "os.environ[\"CUDA_VISIBLE_DEVICES\"]=\"0\""
   ]
  },
  {
   "cell_type": "code",
   "execution_count": 2,
   "id": "cc1ed227",
   "metadata": {},
   "outputs": [
    {
     "name": "stdout",
     "output_type": "stream",
     "text": [
      "Extension horovod.torch has not been built: /home/shariff/.local/lib/python3.8/site-packages/horovod/torch/mpi_lib_v2.cpython-39-x86_64-linux-gnu.so not found\n",
      "If this is not expected, reinstall Horovod with HOROVOD_WITH_PYTORCH=1 to debug the build error.\n",
      "Warning! MPI libs are missing, but python applications are still available.\n"
     ]
    }
   ],
   "source": [
    "import distiller\n",
    "import sys\n",
    "import time\n",
    "import torch\n",
    "import torchvision\n",
    "import vgg\n",
    "from LiveTune import liveVar\n",
    "from torch import nn as nn\n",
    "from torch.nn import functional as F\n",
    "from torch import optim as optim\n",
    "from torch.utils.data import DataLoader\n",
    "from torchvision import transforms\n",
    "from torchvision import models\n",
    "from utils import *\n",
    "\n"
   ]
  },
  {
   "cell_type": "code",
   "execution_count": 3,
   "id": "f1589deb",
   "metadata": {},
   "outputs": [],
   "source": [
    "def checkAccuracy(model, device, testloader):\n",
    "    correct = 0\n",
    "    total = 0\n",
    "    model.eval()\n",
    "    with torch.no_grad():\n",
    "        for data in testloader:\n",
    "            images, labels = data[0].to(device), data[1].to(device)\n",
    "            outputs = model(images)\n",
    "            _, predicted = torch.max(outputs.data, 1)\n",
    "            \n",
    "            total += labels.size(0)\n",
    "            correct += (predicted == labels).sum().item()\n",
    "    accuracy = 100.0 * correct / total\n",
    "    print('Accuracy of the network on the test images: %.2f %%' % (\n",
    "        accuracy))\n",
    "    model.train()\n",
    "    return accuracy\n",
    "\n"
   ]
  },
  {
   "cell_type": "code",
   "execution_count": 4,
   "id": "3df8fce5",
   "metadata": {},
   "outputs": [],
   "source": [
    "def trainModelKD(model, modelLocation, teacher, device, trainloader, testloader, alpha, T, opt, startEpoch, totalEpochs, accuracy = 0):\n",
    "    criterion = nn.KLDivLoss(reduction=\"batchmean\") # nn.CrossEntropyLoss()\n",
    "    dlw = distiller.DistillationLossWeights(alpha*T*T, 1-alpha, 0.0)\n",
    "    kd_policy = distiller.KnowledgeDistillationPolicy(model, teacher, T, dlw)\n",
    "    kd_policy.active = True\n",
    "    bestAccuracy = accuracy\n",
    "    bestEpoch = startEpoch\n",
    "    torch.save(model.state_dict(), modelLocation)\n",
    "    if opt == optim.SGD:\n",
    "        scheme = 1\n",
    "    else:\n",
    "        scheme = 0\n",
    "    print(f\"model has {get_num_parameters(model, True)/1e6:.2f} M parameters\")\n",
    "    for epoch in range(startEpoch, totalEpochs):\n",
    "        start = time.time()\n",
    "        optimizer = opt(model.parameters(), lr=learning_rate(), weight_decay=5e-4)\n",
    "        running_loss = 0.0\n",
    "        for i, data in enumerate(trainloader, 0):\n",
    "            inputs, labels = data[0].to(device), data[1].to(device)\n",
    "            output = kd_policy.forward(inputs)\n",
    "            np_labels = labels.cpu()\n",
    "            one_hot_labels = np.eye(1000)[np_labels]\n",
    "            one_hot_labels = torch.tensor(one_hot_labels).to(device)\n",
    "            output_log = F.log_softmax(output).to(one_hot_labels.dtype)\n",
    "            loss = criterion(output_log, one_hot_labels)\n",
    "            loss = kd_policy.before_backward_pass(model, epoch, None, None, loss, None).overall_loss        \n",
    "            optimizer.zero_grad()\n",
    "            loss.backward()\n",
    "            optimizer.step()\n",
    "            running_loss += loss.item()\n",
    "            if i % 50 == 49:\n",
    "                print('[%d, %5d] loss: %.3f' %\n",
    "                      (epoch + 1, i + 1, running_loss / 50))\n",
    "                running_loss = 0.0\n",
    "        accuracy = checkAccuracy(model, device, testloader)\n",
    "        if accuracy > bestAccuracy:\n",
    "            torch.save(model.state_dict(), modelLocation)\n",
    "            bestAccuracy = accuracy\n",
    "            bestEpoch = epoch+1\n",
    "        print('Best Accuracy of', bestAccuracy,'at epoch',bestEpoch)\n",
    "        end = time.time()\n",
    "        print(\"time taken:\", end-start)\n",
    "    \n",
    "    print('Finished Training Student.')\n",
    "    try:\n",
    "        model.load_state_dict(torch.load(modelLocation))\n",
    "    except:\n",
    "        pass\n",
    "    "
   ]
  },
  {
   "cell_type": "code",
   "execution_count": 5,
   "id": "bc9e0906",
   "metadata": {},
   "outputs": [
    {
     "name": "stdout",
     "output_type": "stream",
     "text": [
      "Port number for liveVar dictionary: 51503\n",
      "CUDA Device Detected. GPU will be used.\n"
     ]
    }
   ],
   "source": [
    "vgg_type = \"VGG19\"\n",
    "if not os.path.isdir(vgg_type):\n",
    "    os.mkdir(vgg_type)\n",
    "\n",
    "teacher_model_path = os.path.join(vgg_type, \"base_model.pt\")\n",
    "student_model_path = os.path.join(vgg_type, \"student_model.pt\")\n",
    "classes = [i for i in range(1000)]\n",
    "learning_rate = liveVar(0.001, 'learning_rate')\n",
    "opt = optim.SGD\n",
    "totalEpochs = 1000\n",
    "startEpoch = 0\n",
    "batchSize = 256\n",
    "if torch.cuda.is_available():\n",
    "    device = torch.device(\"cuda:0\")\n",
    "    print(\"CUDA Device Detected. GPU will be used.\")\n",
    "else:\n",
    "    device = torch.device(\"cpu\")\n",
    "    print(\"No CUDA supported GPU detected. CPU will be used.\")\n"
   ]
  },
  {
   "cell_type": "code",
   "execution_count": 6,
   "id": "c5be7748",
   "metadata": {},
   "outputs": [
    {
     "name": "stdout",
     "output_type": "stream",
     "text": [
      "Dataset- ImageNet\n"
     ]
    },
    {
     "name": "stderr",
     "output_type": "stream",
     "text": [
      "\n",
      "KeyboardInterrupt\n",
      "\n"
     ]
    }
   ],
   "source": [
    "print(\"Dataset- ImageNet\")\n",
    "dataloader = get_dataloader(\"imagenet\", batch_size=batchSize)\n",
    "trainloader = dataloader['train']\n",
    "testloader = dataloader['val']"
   ]
  },
  {
   "cell_type": "code",
   "execution_count": null,
   "id": "1a74cd9a",
   "metadata": {},
   "outputs": [],
   "source": [
    "base_model = None\n",
    "\n",
    "\n",
    "if (vgg_type == 'VGG11'):\n",
    "    base_model = models.vgg11_bn(pretrained=True).cuda()\n",
    "elif (vgg_type == 'VGG13'):\n",
    "    base_model = models.vgg13_bn(pretrained=True).cuda()\n",
    "elif (vgg_type == 'VGG16'):\n",
    "    base_model = models.vgg16_bn(pretrained=True).cuda()\n",
    "elif (vgg_type == 'VGG19'):\n",
    "    base_model = models.vgg19_bn(pretrained=True).cuda()\n",
    "else:\n",
    "    print(\"ERROR\")\n",
    "\n",
    "if base_model:\n",
    "    torch.save(base_model.state_dict(), teacher_model_path)\n"
   ]
  },
  {
   "cell_type": "code",
   "execution_count": null,
   "id": "686ca23b",
   "metadata": {
    "scrolled": true
   },
   "outputs": [],
   "source": [
    "alpha = 0.5\n",
    "T = 2.0\n",
    "student_model = vgg.VGG(vgg_type)\n",
    "# print(student_model)\n",
    "if student_model is None:\n",
    "    print('Invalid Model Type. Aborting.')\n",
    "student_model = student_model.to(device)    \n",
    "try:\n",
    "    student_model.load_state_dict(torch.load(student_model_path))\n",
    "    accuracy = checkAccuracy(student_model, device, testloader)\n",
    "except Exception as e:\n",
    "    print(\"Exception loading student model:\", str(e))\n",
    "    accuracy = 0\n",
    "\n",
    "teacher = base_model\n",
    "if teacher is None:\n",
    "    print('Invalid Model Type for Teacher. Aborting.')\n",
    "teacher = teacher.to(device)\n",
    "try:\n",
    "    teacher.load_state_dict(torch.load(teacher_model_path))\n",
    "except Exception as e:\n",
    "    print(\"Exception loading teacher model:\", str(e))\n",
    "    print('The Teacher model does not exists. Aborting.')\n"
   ]
  },
  {
   "cell_type": "code",
   "execution_count": null,
   "id": "a3813d05",
   "metadata": {
    "scrolled": true
   },
   "outputs": [],
   "source": [
    "evaluate_model(teacher, dataloader=dataloader, device=device)"
   ]
  },
  {
   "cell_type": "code",
   "execution_count": null,
   "id": "72e16a8f",
   "metadata": {
    "scrolled": true
   },
   "outputs": [],
   "source": [
    "for param in teacher.parameters():\n",
    "    param.requires_grad = False\n",
    "teacher.eval()\n",
    "trainModelKD(student_model, student_model_path, teacher, device, trainloader, testloader, alpha, T, opt, startEpoch, totalEpochs, accuracy)\n"
   ]
  },
  {
   "cell_type": "code",
   "execution_count": null,
   "id": "dcf5745d",
   "metadata": {
    "scrolled": true
   },
   "outputs": [],
   "source": [
    "evaluate_model(student_model, dataloader=dataloader, device=device)"
   ]
  }
 ],
 "metadata": {
  "kernelspec": {
   "display_name": "Python 3 (ipykernel)",
   "language": "python",
   "name": "python3"
  },
  "language_info": {
   "codemirror_mode": {
    "name": "ipython",
    "version": 3
   },
   "file_extension": ".py",
   "mimetype": "text/x-python",
   "name": "python",
   "nbconvert_exporter": "python",
   "pygments_lexer": "ipython3",
   "version": "3.9.12"
  }
 },
 "nbformat": 4,
 "nbformat_minor": 5
}
